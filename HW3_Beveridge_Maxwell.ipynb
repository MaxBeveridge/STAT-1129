{
 "cells": [
  {
   "cell_type": "code",
   "execution_count": 63,
   "id": "9c32e50b",
   "metadata": {},
   "outputs": [],
   "source": [
    "#Question 1"
   ]
  },
  {
   "cell_type": "code",
   "execution_count": 64,
   "id": "c07b0c7e",
   "metadata": {},
   "outputs": [],
   "source": [
    "marks = {'Andy':88, 'Amy':66, 'James':90, 'Jules': 55, 'Arthur':77}"
   ]
  },
  {
   "cell_type": "code",
   "execution_count": 65,
   "id": "326bdf53",
   "metadata": {},
   "outputs": [
    {
     "name": "stdout",
     "output_type": "stream",
     "text": [
      "66\n",
      "Student cannot be found.\n"
     ]
    }
   ],
   "source": [
    "def student_grade(name):\n",
    "    if name in marks.keys():\n",
    "        print(marks[name])\n",
    "    else:\n",
    "        print('Student cannot be found.')\n",
    "\n",
    "\n",
    "student_grade('Amy')\n",
    "student_grade('Tom')"
   ]
  },
  {
   "cell_type": "code",
   "execution_count": 66,
   "id": "1f44538f",
   "metadata": {
    "scrolled": true
   },
   "outputs": [
    {
     "name": "stdout",
     "output_type": "stream",
     "text": [
      "75.2\n"
     ]
    }
   ],
   "source": [
    "def average(dict):\n",
    "        x = sum(dict.values())\n",
    "        y = len(dict.values())\n",
    "        print(x/y)\n",
    "        \n",
    "average(marks)"
   ]
  },
  {
   "cell_type": "code",
   "execution_count": 67,
   "id": "b8739e0b",
   "metadata": {},
   "outputs": [],
   "source": [
    "#Question 2"
   ]
  },
  {
   "cell_type": "code",
   "execution_count": 81,
   "id": "2aa0e4cc",
   "metadata": {},
   "outputs": [
    {
     "name": "stdout",
     "output_type": "stream",
     "text": [
      "0 0\n",
      "1 1\n",
      "2 4\n",
      "3 9\n",
      "4 16\n",
      "5 25\n",
      "6 36\n",
      "7 49\n",
      "8 is greater than or equal to 8\n"
     ]
    }
   ],
   "source": [
    "def squares(num=8):\n",
    "    n=0\n",
    "    while n<num:\n",
    "        print(n, n**2)\n",
    "        n+=1\n",
    "    else:\n",
    "        print(n, 'is greater than or equal to', num)\n",
    "              \n",
    "squares(8)"
   ]
  },
  {
   "cell_type": "code",
   "execution_count": 69,
   "id": "e2a284de",
   "metadata": {},
   "outputs": [],
   "source": [
    "#Question 3"
   ]
  },
  {
   "cell_type": "code",
   "execution_count": 70,
   "id": "49a62baf",
   "metadata": {},
   "outputs": [
    {
     "name": "stdout",
     "output_type": "stream",
     "text": [
      "45\n"
     ]
    }
   ],
   "source": [
    "def sum_of(num):\n",
    "    sum = 0\n",
    "    n = 0\n",
    "    while n<= num:\n",
    "        sum+=n\n",
    "        n+=1\n",
    "    else:\n",
    "        print(sum)\n",
    "\n",
    "sum_of(9)"
   ]
  },
  {
   "cell_type": "code",
   "execution_count": 71,
   "id": "336bf941",
   "metadata": {},
   "outputs": [],
   "source": [
    "#Question 4"
   ]
  },
  {
   "cell_type": "code",
   "execution_count": 72,
   "id": "a3e8ae7c",
   "metadata": {},
   "outputs": [
    {
     "name": "stdout",
     "output_type": "stream",
     "text": [
      "0\n",
      "1\n",
      "3\n",
      "6\n",
      "10\n",
      "15\n",
      "21\n"
     ]
    }
   ],
   "source": [
    "def sum_to(num):\n",
    "    sum = 0\n",
    "    for i in range(num+1):\n",
    "        sum+=i\n",
    "        print(sum)\n",
    "sum_to(6)"
   ]
  },
  {
   "cell_type": "code",
   "execution_count": 73,
   "id": "09512236",
   "metadata": {},
   "outputs": [],
   "source": [
    "#Question 5"
   ]
  },
  {
   "cell_type": "code",
   "execution_count": 74,
   "id": "95c522a3",
   "metadata": {},
   "outputs": [
    {
     "name": "stdout",
     "output_type": "stream",
     "text": [
      "50\n",
      "4950\n",
      "28.577380332470412\n"
     ]
    }
   ],
   "source": [
    "import statistics as stats\n",
    "def data(list):\n",
    "    x = list\n",
    "    print(stats.mean(list))\n",
    "    print(sum(list))\n",
    "    print(stats.pstdev(list))\n",
    "\n",
    "\n",
    "data(range(1,100))"
   ]
  },
  {
   "cell_type": "code",
   "execution_count": 75,
   "id": "0d8d2e37",
   "metadata": {},
   "outputs": [],
   "source": [
    "#Question 6"
   ]
  },
  {
   "cell_type": "code",
   "execution_count": 80,
   "id": "051cfc8f",
   "metadata": {},
   "outputs": [
    {
     "data": {
      "text/plain": [
       "1"
      ]
     },
     "execution_count": 80,
     "metadata": {},
     "output_type": "execute_result"
    }
   ],
   "source": [
    "def minimal(v1, v2, v3, v4):\n",
    "    if v1 <= v2 and v1 <= v3 and v1 <= v4:\n",
    "        return(v1)\n",
    "    elif v2 <= v1 and v2 <= v3 and v2 <= v4:\n",
    "        return(v2)\n",
    "    elif v3 <= v1 and v3 <= v2 and v3 <= v4:\n",
    "        return(v3)\n",
    "    elif v4 <= v1 and v4 <= v2 and v4 <= v3:\n",
    "        return(v4)\n",
    "        \n",
    "minimal(5, 1, 1, 100)"
   ]
  },
  {
   "cell_type": "code",
   "execution_count": 77,
   "id": "24acbfca",
   "metadata": {},
   "outputs": [],
   "source": [
    "#Question 7"
   ]
  },
  {
   "cell_type": "code",
   "execution_count": 78,
   "id": "4c8b8df6",
   "metadata": {},
   "outputs": [
    {
     "name": "stdout",
     "output_type": "stream",
     "text": [
      "Fall is here\n"
     ]
    }
   ],
   "source": [
    "def concatenate(s1, s2, s3):\n",
    "    sn = s1 +' '+ s2 +' '+ s3\n",
    "    print(sn)\n",
    "    \n",
    "concatenate('Fall', 'is', 'here')"
   ]
  }
 ],
 "metadata": {
  "kernelspec": {
   "display_name": "Python 3 (ipykernel)",
   "language": "python",
   "name": "python3"
  },
  "language_info": {
   "codemirror_mode": {
    "name": "ipython",
    "version": 3
   },
   "file_extension": ".py",
   "mimetype": "text/x-python",
   "name": "python",
   "nbconvert_exporter": "python",
   "pygments_lexer": "ipython3",
   "version": "3.9.12"
  }
 },
 "nbformat": 4,
 "nbformat_minor": 5
}
